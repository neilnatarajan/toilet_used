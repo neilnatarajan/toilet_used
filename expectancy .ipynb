{
 "cells": [
  {
   "cell_type": "code",
   "execution_count": 81,
   "metadata": {
    "collapsed": true
   },
   "outputs": [],
   "source": [
    "import csv \n",
    "import gzip \n",
    "from sklearn.model_selection import cross_val_score\n",
    "from sklearn import linear_model\n",
    "\n",
    "\n",
    "# reading in the data to get Field Names\n",
    "data = []\n",
    "with open('Mortality_05_UT.csv', 'rb') as csvfile:\n",
    "    spamreader = csv.reader(csvfile, delimiter=',', quotechar='|')\n",
    "    fieldNames = []\n",
    "    for row in spamreader:\n",
    "        fieldNames.append(row)\n",
    "        break"
   ]
  },
  {
   "cell_type": "code",
   "execution_count": 82,
   "metadata": {
    "collapsed": true
   },
   "outputs": [],
   "source": [
    "fieldNames = fieldNames[0]"
   ]
  },
  {
   "cell_type": "code",
   "execution_count": 83,
   "metadata": {
    "collapsed": true
   },
   "outputs": [],
   "source": [
    "# create List of dictionaries for each record in the dataset\n",
    "with open('Mortality_05_UT.csv') as csvfile:\n",
    "    data = []\n",
    "    reader = csv.DictReader(csvfile,fieldnames=fieldNames)\n",
    "    count = 0 \n",
    "    for row in reader:\n",
    "        if count != 0:\n",
    "            data.append(row)\n",
    "        count +=1\n",
    "        "
   ]
  },
  {
   "cell_type": "code",
   "execution_count": null,
   "metadata": {
    "collapsed": true
   },
   "outputs": [],
   "source": []
  },
  {
   "cell_type": "code",
   "execution_count": 84,
   "metadata": {
    "collapsed": true
   },
   "outputs": [],
   "source": [
    "# remove records that have an empty age field \n",
    "cleanData = []\n",
    "for datum in data:\n",
    "    toAppend = True\n",
    "    if datum['age'] is '':\n",
    "        toAppend = False\n",
    "    for k in datum.keys():\n",
    "        if datum[k] is '':\n",
    "            datum[k] = -100\n",
    "    if toAppend:\n",
    "        cleanData.append(datum)"
   ]
  },
  {
   "cell_type": "code",
   "execution_count": null,
   "metadata": {
    "collapsed": true
   },
   "outputs": [],
   "source": []
  },
  {
   "cell_type": "code",
   "execution_count": 85,
   "metadata": {
    "collapsed": true
   },
   "outputs": [],
   "source": [
    "useless = ['m_id','client_m_id','hl_id','house_no','PSU_ID','m_serial_no','date_of_death','month_of_death','year_of_death','is_death_reg','place_of_death','is_death_certificate_received','serial_num_of_infant_mother','death_period','months_of_pregnancy']"
   ]
  },
  {
   "cell_type": "code",
   "execution_count": 86,
   "metadata": {
    "collapsed": true
   },
   "outputs": [],
   "source": [
    "useful_stuff = ['id','state','house_hold_no','district','rural','stratum_code',\\\n",
    "               'deceased_sex','treatment_source','order_of_birth','sex','age',\\\n",
    "               'religion','marital_status','currently_attending_school', \\\n",
    "               'reason_for_not_attending_school','highest_qualification','occupation_status'\\\n",
    "              'disability_status','regular_treatment','regular_treatment_source','chew','smoke'\\\n",
    "              'injury_treatment_type','alcohol','house_status','owner_status','drinking_water_source'\\\n",
    "              'is_water_filter','water_filtration','toilet_used','is_toilet_shared','household_have_electricity'\\\n",
    "              'lighting_source','cooking_fuel','no_of_dwelling_rooms','kitchen_availability','is_radio',\\\n",
    "              'is_televison','is_computer','is_telephone', 'is_washing_machine', 'is_refrigerator', \\\n",
    "              'is_sewing_machine', 'is_bicycle', 'is_scooter', 'is_car', 'is_tractor', 'is_water_pump', \\\n",
    "              'cart', 'land_possessed', 'iscoveredbyhealthscheme', 'injury_treatment_type'\\\n",
    "              'house_structure']"
   ]
  },
  {
   "cell_type": "code",
   "execution_count": 87,
   "metadata": {},
   "outputs": [],
   "source": [
    "columns = set(['id','state','house_hold_no','district','rural','stratum_code',\\\n",
    "'private_parts','order_of_birth','age','religion','marital_status'\\\n",
    ",'currently_attending_school', 'reason_for_not_attending_school','regular_treatment','regular_treatment_source','chew','smoke'\\\n",
    ",'injury_treatment_type','alcohol','house_status','owner_status','drinking_water_source'\\\n",
    ",'water_filtration_category','toilet_used','is_toilet_shared','household_have_electricity'\\\n",
    ",'lighting_source','cooking_fuel','no_of_dwelling_rooms','kitchen_availability','is_radio',\\\n",
    "'is_television','is_computer','is_telephone', 'is_washing_machine', 'is_refrigerator','is_sewing_machine', 'is_bicycle', 'is_scooter', 'is_car', 'is_tractor', 'is_water_pump', \\\n",
    "'is_cart','land_possessed','iscoveredbyhealthscheme'\\\n",
    ",'house_structure'])\n",
    "\n",
    "columns = list(columns)"
   ]
  },
  {
   "cell_type": "code",
   "execution_count": 88,
   "metadata": {},
   "outputs": [
    {
     "name": "stdout",
     "output_type": "stream",
     "text": [
      "0\n",
      "chew 3\n",
      "is_radio 1\n",
      "is_television 1\n",
      "is_water_pump 2\n",
      "drinking_water_source 1\n",
      "is_toilet_shared 2\n",
      "reason_for_not_attending_school -100\n",
      "is_tractor 2\n",
      "order_of_birth -100\n",
      "household_have_electricity 1\n",
      "id"
     ]
    },
    {
     "ename": "KeyError",
     "evalue": "'id'",
     "output_type": "error",
     "traceback": [
      "\u001b[0;31m---------------------------------------------------------------------------\u001b[0m",
      "\u001b[0;31mKeyError\u001b[0m                                  Traceback (most recent call last)",
      "\u001b[0;32m<ipython-input-88-46c2afaa31a6>\u001b[0m in \u001b[0;36m<module>\u001b[0;34m()\u001b[0m\n\u001b[1;32m     17\u001b[0m             \u001b[0mtempDict\u001b[0m\u001b[0;34m[\u001b[0m\u001b[0mc\u001b[0m\u001b[0;34m]\u001b[0m \u001b[0;34m=\u001b[0m \u001b[0mint\u001b[0m\u001b[0;34m(\u001b[0m\u001b[0md\u001b[0m\u001b[0;34m[\u001b[0m\u001b[0;34m'cart'\u001b[0m\u001b[0;34m]\u001b[0m\u001b[0;34m)\u001b[0m\u001b[0;34m\u001b[0m\u001b[0m\n\u001b[1;32m     18\u001b[0m         \u001b[0;32melse\u001b[0m\u001b[0;34m:\u001b[0m\u001b[0;34m\u001b[0m\u001b[0m\n\u001b[0;32m---> 19\u001b[0;31m             \u001b[0;32mprint\u001b[0m \u001b[0mc\u001b[0m\u001b[0;34m,\u001b[0m\u001b[0md\u001b[0m\u001b[0;34m[\u001b[0m\u001b[0mc\u001b[0m\u001b[0;34m]\u001b[0m\u001b[0;34m\u001b[0m\u001b[0m\n\u001b[0m\u001b[1;32m     20\u001b[0m             \u001b[0mtempDict\u001b[0m\u001b[0;34m[\u001b[0m\u001b[0mc\u001b[0m\u001b[0;34m]\u001b[0m \u001b[0;34m=\u001b[0m \u001b[0mint\u001b[0m\u001b[0;34m(\u001b[0m\u001b[0md\u001b[0m\u001b[0;34m[\u001b[0m\u001b[0mc\u001b[0m\u001b[0;34m]\u001b[0m\u001b[0;34m)\u001b[0m\u001b[0;34m\u001b[0m\u001b[0m\n\u001b[1;32m     21\u001b[0m     \u001b[0mcount\u001b[0m \u001b[0;34m+=\u001b[0m\u001b[0;36m1\u001b[0m\u001b[0;34m\u001b[0m\u001b[0m\n",
      "\u001b[0;31mKeyError\u001b[0m: 'id'"
     ]
    }
   ],
   "source": [
    "from collections import defaultdict\n",
    "consolidated_data = []\n",
    "count = 0 \n",
    "for d in cleanData:\n",
    "    print count\n",
    "    tempDict = defaultdict(int)\n",
    "    sex = None \n",
    "    \n",
    "    for c in columns:\n",
    "        if c is 'private_parts':\n",
    "            if d['sex'] != -100:\n",
    "                sex = int(d['sex'])\n",
    "            elif d['deceased_sex'] != -100:\n",
    "                sex = int(d['deceased_sex'])\n",
    "            tempDict['private_parts'] = sex \n",
    "        elif c is 'is_cart':\n",
    "            tempDict[c] = int(d['cart'])\n",
    "        else:\n",
    "            print c,d[c]\n",
    "            tempDict[c] = int(d[c])\n",
    "    count +=1\n",
    "        \n",
    "        \n",
    "            "
   ]
  },
  {
   "cell_type": "code",
   "execution_count": 90,
   "metadata": {},
   "outputs": [
    {
     "name": "stdout",
     "output_type": "stream",
     "text": [
      "\n"
     ]
    }
   ],
   "source": [
    "def feature(datum):\n",
    "    feat = []\n",
    "    for k in datum.keys():\n",
    "        if k in useful_stuff:\n",
    "            break\n",
    "    return feat"
   ]
  },
  {
   "cell_type": "code",
   "execution_count": 91,
   "metadata": {},
   "outputs": [
    {
     "name": "stdout",
     "output_type": "stream",
     "text": [
      "427\n"
     ]
    },
    {
     "data": {
      "text/plain": [
       "53503"
      ]
     },
     "execution_count": 91,
     "metadata": {},
     "output_type": "execute_result"
    }
   ],
   "source": [
    "sex_count = 0 \n",
    "sex = 0 \n",
    "for d in data:\n",
    "    if d['sex'] is not '':\n",
    "        sex = d['sex']\n",
    "    elif d['deceased_sex'] is not '':\n",
    "        sex = d['deceased_sex']\n",
    "    if sex == -100:\n",
    "        sex_count +=1 \n",
    "        \n",
    "print sex_count\n",
    "len(data)\n"
   ]
  },
  {
   "cell_type": "code",
   "execution_count": 92,
   "metadata": {},
   "outputs": [
    {
     "data": {
      "text/plain": [
       "str"
      ]
     },
     "execution_count": 92,
     "metadata": {},
     "output_type": "execute_result"
    }
   ],
   "source": [
    "type(data[200]['deceased_sex'])"
   ]
  },
  {
   "cell_type": "code",
   "execution_count": 96,
   "metadata": {},
   "outputs": [
    {
     "data": {
      "text/plain": [
       "4"
      ]
     },
     "execution_count": 96,
     "metadata": {},
     "output_type": "execute_result"
    }
   ],
   "source": [
    "columns.index('private_parts')"
   ]
  },
  {
   "cell_type": "code",
   "execution_count": 73,
   "metadata": {},
   "outputs": [
    {
     "ename": "KeyError",
     "evalue": "'id'",
     "output_type": "error",
     "traceback": [
      "\u001b[0;31m---------------------------------------------------------------------------\u001b[0m",
      "\u001b[0;31mKeyError\u001b[0m                                  Traceback (most recent call last)",
      "\u001b[0;32m<ipython-input-73-d8b529992822>\u001b[0m in \u001b[0;36m<module>\u001b[0;34m()\u001b[0m\n\u001b[0;32m----> 1\u001b[0;31m \u001b[0mlen\u001b[0m\u001b[0;34m(\u001b[0m\u001b[0;34m[\u001b[0m\u001b[0md\u001b[0m \u001b[0;32mfor\u001b[0m \u001b[0md\u001b[0m \u001b[0;32min\u001b[0m \u001b[0mcleanData\u001b[0m \u001b[0;32mif\u001b[0m \u001b[0md\u001b[0m\u001b[0;34m[\u001b[0m\u001b[0;34m'id'\u001b[0m\u001b[0;34m]\u001b[0m\u001b[0;34m]\u001b[0m \u001b[0;32mis\u001b[0m \u001b[0;32mnot\u001b[0m \u001b[0;34m''\u001b[0m\u001b[0;34m)\u001b[0m\u001b[0;34m\u001b[0m\u001b[0m\n\u001b[0m",
      "\u001b[0;31mKeyError\u001b[0m: 'id'"
     ]
    }
   ],
   "source": [
    "len([d for d in cleanData if d['id']] is not '')"
   ]
  },
  {
   "cell_type": "code",
   "execution_count": 75,
   "metadata": {},
   "outputs": [
    {
     "data": {
      "text/plain": [
       "{'age': '28',\n",
       " 'age_of_death_above_one_year': '67',\n",
       " 'age_of_death_below_eleven_month': -100,\n",
       " 'age_of_death_below_one_month': -100,\n",
       " 'alcohol': '2',\n",
       " 'as': -100,\n",
       " 'building_no': -100,\n",
       " 'cart': '4',\n",
       " 'chew': '3',\n",
       " 'client_hh_id': '12506',\n",
       " 'client_hl_id': '6086',\n",
       " 'client_m_id': -100,\n",
       " 'cooking_fuel': '1',\n",
       " 'currently_attending_school': -100,\n",
       " 'currently_dead_or_out_migrated': '2',\n",
       " 'date_of_birth': '10',\n",
       " 'date_of_death': '6',\n",
       " 'date_of_marriage': '19',\n",
       " 'death_period': -100,\n",
       " 'death_symptoms': -100,\n",
       " 'deceased_sex': '1',\n",
       " 'diagnosed_for': '0',\n",
       " 'diagnosis_source': -100,\n",
       " 'disability_status': '0',\n",
       " 'district': '2',\n",
       " 'drinking_water_source': '1',\n",
       " 'factors_contributing_death': -100,\n",
       " 'factors_contributing_death_2': -100,\n",
       " 'father_serial_no': '1',\n",
       " 'fid': '502217011101',\n",
       " 'fidh': '50221701110102',\n",
       " 'fidx': -100,\n",
       " 'field38': -100,\n",
       " 'healthscheme_1': -100,\n",
       " 'healthscheme_2': -100,\n",
       " 'hh_expall_status': '1',\n",
       " 'hh_id': '14219',\n",
       " 'hh_serial_no': '2',\n",
       " 'highest_qualification': '4',\n",
       " 'hl_expall_status': '1',\n",
       " 'hl_id': -100,\n",
       " 'house_hold_no': '1',\n",
       " 'house_no': '111',\n",
       " 'house_status': '1',\n",
       " 'house_structure': '1',\n",
       " 'household_have_electricity': '1',\n",
       " 'householdstatus': '1',\n",
       " 'housestatus': '1',\n",
       " 'illness_type': '0',\n",
       " 'injury_treatment_type': '0',\n",
       " 'is_bicycle': '2',\n",
       " 'is_car': '2',\n",
       " 'is_computer': '3',\n",
       " 'is_death_associated_with_pregnan': -100,\n",
       " 'is_death_certificate_received': -100,\n",
       " 'is_death_reg': '3',\n",
       " 'is_radio': '1',\n",
       " 'is_refrigerator': '2',\n",
       " 'is_scooter': '2',\n",
       " 'is_sewing_machine': '2',\n",
       " 'is_telephone': '2',\n",
       " 'is_television': '1',\n",
       " 'is_toilet_shared': '2',\n",
       " 'is_tractor': '2',\n",
       " 'is_washing_machine': '2',\n",
       " 'is_water_filter': '1',\n",
       " 'is_water_pump': '2',\n",
       " 'iscoveredbyhealthscheme': '2',\n",
       " 'isdeadmigrated': -100,\n",
       " 'isheadchanged': '2',\n",
       " 'kitchen_availability': '1',\n",
       " 'land_possessed': '2',\n",
       " 'lighting_source': '1',\n",
       " 'm_expall_status': -100,\n",
       " 'm_id': '4',\n",
       " 'm_serial_no': '3',\n",
       " 'marital_status': '3',\n",
       " 'member_identity': '292',\n",
       " 'month_of_birth': '10',\n",
       " 'month_of_death': '9',\n",
       " 'month_of_marriage': '2',\n",
       " 'months_of_pregnancy': -100,\n",
       " 'mother_serial_no': -100,\n",
       " 'nearest_medical_facility': -100,\n",
       " 'no_of_dwelling_rooms': '2',\n",
       " 'occupation_status': '1',\n",
       " 'order_of_birth': -100,\n",
       " 'owner_status': '1',\n",
       " 'place_of_death': '1',\n",
       " 'psu_id': '100029616',\n",
       " 'reason_for_not_attending_school': -100,\n",
       " 'regular_treatment': -100,\n",
       " 'regular_treatment_source': -100,\n",
       " 'relation_to_head': '1',\n",
       " 'religion': '1',\n",
       " 'residancial_status': '1',\n",
       " 'rural': '1',\n",
       " 'schedule_id': '4',\n",
       " 'serial_no': '117',\n",
       " 'serial_num_of_infant_mother': -100,\n",
       " 'sex': '1',\n",
       " 'smoke': '4',\n",
       " 'social_group_code': '2',\n",
       " 'sought_medical_care': -100,\n",
       " 'state': '5',\n",
       " 'status': '0',\n",
       " 'stratum_code': '1',\n",
       " 'symptoms_of_death': -100,\n",
       " 'symptoms_pertaining_illness': '99',\n",
       " 'time_between_onset_of_complicati': -100,\n",
       " 'toilet_used': '5',\n",
       " 'treatment_source': '0',\n",
       " 'usual_residance': '1',\n",
       " 'v126': -100,\n",
       " 'water_filteration': '1',\n",
       " 'wt': '2.46',\n",
       " 'x': -100,\n",
       " 'year': '3',\n",
       " 'year_of_birth': '1983',\n",
       " 'year_of_death': '2011',\n",
       " 'year_of_marriage': '2004',\n",
       " '\\xef\\xbb\\xbfid': '167609'}"
      ]
     },
     "execution_count": 75,
     "metadata": {},
     "output_type": "execute_result"
    }
   ],
   "source": [
    "data[1]"
   ]
  },
  {
   "cell_type": "code",
   "execution_count": 77,
   "metadata": {},
   "outputs": [
    {
     "name": "stdout",
     "output_type": "stream",
     "text": [
      "<type 'dict'>\n"
     ]
    }
   ],
   "source": [
    "print type(data[0])"
   ]
  },
  {
   "cell_type": "code",
   "execution_count": 80,
   "metadata": {},
   "outputs": [
    {
     "name": "stdout",
     "output_type": "stream",
     "text": [
      "['death_symptoms', 'is_television', 'drinking_water_source', 'deceased_sex', 'is_death_associated_with_pregnan', 'hl_id', 'is_refrigerator', 'stratum_code', 'social_group_code', 'date_of_birth', 'fid', 'place_of_death', 'is_car', 'is_scooter', 'relation_to_head', 'healthscheme_2', 'member_identity', 'date_of_death', 'usual_residance', 'lighting_source', 'death_period', 'month_of_marriage', 'marital_status', 'father_serial_no', 'field38', 'building_no', 'occupation_status', 'x', 'water_filteration', 'chew', 'is_radio', 'isdeadmigrated', 'serial_no', 'hh_id', 'sex', 'reason_for_not_attending_school', 'schedule_id', 'order_of_birth', 'year', 'alcohol', 'house_status', 'hl_expall_status', 'highest_qualification', 'religion', 'state', 'no_of_dwelling_rooms', 'sought_medical_care', 'housestatus', 'client_hh_id', 'house_hold_no', 'client_m_id', 'time_between_onset_of_complicati', 'cart', 'year_of_marriage', 'wt', 'is_sewing_machine', 'kitchen_availability', 'is_water_filter', 'is_bicycle', 'householdstatus', 'is_water_pump', 'v126', 'smoke', 'm_id', 'healthscheme_1', 'is_toilet_shared', 'is_tractor', '\\xef\\xbb\\xbfid', 'household_have_electricity', 'hh_serial_no', 'district', 'land_possessed', 'toilet_used', 'psu_id', 'month_of_death', 'injury_treatment_type', 'serial_num_of_infant_mother', 'is_death_reg', 'nearest_medical_facility', 'regular_treatment', 'illness_type', 'house_no', 'symptoms_of_death', 'treatment_source', 'client_hl_id', 'diagnosed_for', 'age_of_death_below_eleven_month', 'm_expall_status', 'hh_expall_status', 'age_of_death_above_one_year', 'year_of_death', 'age_of_death_below_one_month', 'symptoms_pertaining_illness', 'as', 'currently_dead_or_out_migrated', 'fidx', 'months_of_pregnancy', 'is_death_certificate_received', 'factors_contributing_death_2', 'factors_contributing_death', 'is_telephone', 'residancial_status', 'fidh', 'diagnosis_source', 'status', 'is_computer', 'iscoveredbyhealthscheme', 'year_of_birth', 'cooking_fuel', 'owner_status', 'house_structure', 'age', 'currently_attending_school', 'month_of_birth', 'm_serial_no', 'is_washing_machine', 'isheadchanged', 'rural', 'disability_status', 'date_of_marriage', 'mother_serial_no', 'regular_treatment_source']\n"
     ]
    }
   ],
   "source": [
    "print cleanData[0].keys()"
   ]
  },
  {
   "cell_type": "code",
   "execution_count": null,
   "metadata": {
    "collapsed": true
   },
   "outputs": [],
   "source": []
  }
 ],
 "metadata": {
  "kernelspec": {
   "display_name": "Python 2",
   "language": "python",
   "name": "python2"
  },
  "language_info": {
   "codemirror_mode": {
    "name": "ipython",
    "version": 2
   },
   "file_extension": ".py",
   "mimetype": "text/x-python",
   "name": "python",
   "nbconvert_exporter": "python",
   "pygments_lexer": "ipython2",
   "version": "2.7.13"
  }
 },
 "nbformat": 4,
 "nbformat_minor": 2
}
