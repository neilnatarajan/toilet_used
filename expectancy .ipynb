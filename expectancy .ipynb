{
 "cells": [
  {
   "cell_type": "code",
   "execution_count": 11,
   "metadata": {
    "collapsed": true
   },
   "outputs": [],
   "source": [
    "import csv \n",
    "import gzip \n",
    "from sklearn.model_selection import cross_val_score\n",
    "from sklearn import linear_model\n",
    "\n",
    "\n",
    "# reading in the data to get Field Names\n",
    "data = []\n",
    "with open('Mortality_05_UT.csv', 'rb') as csvfile:\n",
    "    spamreader = csv.reader(csvfile, delimiter=',', quotechar='|')\n",
    "    fieldNames = []\n",
    "    for row in spamreader:\n",
    "        fieldNames.append(row)\n",
    "        break"
   ]
  },
  {
   "cell_type": "code",
   "execution_count": 12,
   "metadata": {
    "collapsed": true
   },
   "outputs": [],
   "source": [
    "fieldNames = fieldNames[0]"
   ]
  },
  {
   "cell_type": "code",
   "execution_count": 13,
   "metadata": {
    "collapsed": true
   },
   "outputs": [],
   "source": [
    "# create List of dictionaries for each record in the dataset\n",
    "with open('Mortality_05_UT.csv') as csvfile:\n",
    "    data = []\n",
    "    reader = csv.DictReader(csvfile,fieldnames=fieldNames)\n",
    "    count = 0 \n",
    "    for row in reader:\n",
    "        if count != 0:\n",
    "            data.append(row)\n",
    "        count +=1\n",
    "        "
   ]
  },
  {
   "cell_type": "code",
   "execution_count": null,
   "metadata": {
    "collapsed": true
   },
   "outputs": [],
   "source": []
  },
  {
   "cell_type": "code",
   "execution_count": 14,
   "metadata": {
    "collapsed": true
   },
   "outputs": [],
   "source": [
    "# remove records that have an empty age field \n",
    "cleanData = []\n",
    "for datum in data:\n",
    "    toAppend = True\n",
    "    if datum['age'] is '':\n",
    "        toAppend = False\n",
    "    for k in datum.keys():\n",
    "        if datum[k] is '':\n",
    "            datum[k] = -100\n",
    "    if toAppend:\n",
    "        cleanData.append(datum)"
   ]
  },
  {
   "cell_type": "code",
   "execution_count": null,
   "metadata": {
    "collapsed": true
   },
   "outputs": [],
   "source": []
  },
  {
   "cell_type": "code",
   "execution_count": 19,
   "metadata": {},
   "outputs": [
    {
     "name": "stdout",
     "output_type": "stream",
     "text": [
      "\n"
     ]
    }
   ],
   "source": [
    "useless = ['m_id','client_m_id','hl_id','house_no','PSU_ID','m_serial_no','date_of_death','month_of_death','year_of_death','is_death_reg','place_of_death','is_death_certificate_received','serial_num_of_infant_mother','death_period','months_of_pregnancy']"
   ]
  },
  {
   "cell_type": "code",
   "execution_count": 20,
   "metadata": {
    "collapsed": true
   },
   "outputs": [],
   "source": [
    "useful_stuff = ['id','state','house_hold_no','district','rural','stratum_code',\\\n",
    "               'deceased_sex','treatment_source','order_of_birth','sex','age',\\\n",
    "               'religion','marital_status','currently_attending_school', \\\n",
    "               'reason_for_not_attending_school','highest_qualification','occupation_status'\\\n",
    "              'disability_status','regular_treatment','regular_treatment_source','chew','smoke'\\\n",
    "              'injury_treatment_type','alcohol','house_status','owner_status','drinking_water_source'\\\n",
    "              'is_water_filter','water_filteration','toilet_used','is_toilet_shared','household_have_electricity'\\\n",
    "              'lighting_source','cooking_fuel','no_of_dwelling_rooms','kitchen_availability','is_radio',\\\n",
    "              'is_televison','is_computer','is_telephone', 'is_washing_machine', 'is_refrigerator', \\\n",
    "              'is_sewing_machine', 'is_bicycle', 'is_scooter', 'is_car', 'is_tractor', 'is_water_pump', \\\n",
    "              'cart', 'land_possessed', 'iscoveredbyhealthscheme', 'injury_treatment_type'\\\n",
    "              'house_structure']"
   ]
  },
  {
   "cell_type": "code",
   "execution_count": 21,
   "metadata": {},
   "outputs": [],
   "source": [
    "columns = set(['id','state','house_hold_no','district','rural','stratum_code',\\\n",
    "'private_parts','order_of_birth','age','religion','marital_status'\\\n",
    ",'currently_attending_school', 'reason_for_not_attending_school','regular_treatment','regular_treatment_source','chew','smoke'\\\n",
    ",'injury_treatment_type','alcohol','house_status','owner_status','drinking_water_source'\\\n",
    ",'water_filteration','toilet_used','is_toilet_shared','household_have_electricity'\\\n",
    ",'lighting_source','cooking_fuel','no_of_dwelling_rooms','kitchen_availability','is_radio',\\\n",
    "'is_television','is_computer','is_telephone', 'is_washing_machine', 'is_refrigerator','is_sewing_machine', 'is_bicycle', 'is_scooter', 'is_car', 'is_tractor', 'is_water_pump', \\\n",
    "'is_cart','land_possessed','iscoveredbyhealthscheme'\\\n",
    ",'house_structure'])\n",
    "\n",
    "columns = list(columns)"
   ]
  },
  {
   "cell_type": "code",
   "execution_count": 23,
   "metadata": {},
   "outputs": [
    {
     "name": "stdout",
     "output_type": "stream",
     "text": [
      "53076\n"
     ]
    }
   ],
   "source": [
    "from collections import defaultdict\n",
    "consolidated_data = []\n",
    "count = 0 \n",
    "for d in cleanData:\n",
    "#     print count\n",
    "    tempDict = defaultdict(int)\n",
    "    sex = None \n",
    "\n",
    "    \n",
    "    for c in columns:\n",
    "        if c is 'private_parts':\n",
    "            if d['sex'] != -100:\n",
    "                sex = int(d['sex'])\n",
    "            elif d['deceased_sex'] != -100:\n",
    "                sex = int(d['deceased_sex'])\n",
    "            tempDict['private_parts'] = sex \n",
    "        elif c is 'is_cart':\n",
    "            tempDict[c] = int(d['cart'])\n",
    "        else:\n",
    "#             print c,d[c]\n",
    "            tempDict[c] = int(d[c])\n",
    "    count +=1\n",
    "print count\n",
    "        \n",
    "            "
   ]
  },
  {
   "cell_type": "code",
   "execution_count": null,
   "metadata": {},
   "outputs": [],
   "source": [
    "def feature(datum):\n",
    "    feat = []\n",
    "    for k in datum.keys():\n",
    "        if k in useful_stuff:\n",
    "            break\n",
    "    return feat\n"
   ]
  },
  {
   "cell_type": "code",
   "execution_count": null,
   "metadata": {},
   "outputs": [],
   "source": [
    "sex_count = 0 \n",
    "sex = 0 \n",
    "for d in data:\n",
    "    if d['sex'] is not '':\n",
    "        sex = d['sex']\n",
    "    elif d['deceased_sex'] is not '':\n",
    "        sex = d['deceased_sex']\n",
    "    if sex == -100:\n",
    "        sex_count +=1 \n",
    "        \n",
    "print sex_count\n",
    "len(data)\n"
   ]
  },
  {
   "cell_type": "code",
   "execution_count": null,
   "metadata": {},
   "outputs": [],
   "source": [
    "type(data[200]['deceased_sex'])"
   ]
  },
  {
   "cell_type": "code",
   "execution_count": null,
   "metadata": {},
   "outputs": [],
   "source": [
    "columns.index('private_parts')"
   ]
  },
  {
   "cell_type": "code",
   "execution_count": null,
   "metadata": {},
   "outputs": [],
   "source": [
    "len([d for d in cleanData if d['id']] is not '')"
   ]
  },
  {
   "cell_type": "code",
   "execution_count": null,
   "metadata": {},
   "outputs": [],
   "source": [
    "\n",
    "for d in cleanData:\n",
    "    if 'id' in d:\n",
    "        print 'yes'"
   ]
  },
  {
   "cell_type": "code",
   "execution_count": null,
   "metadata": {
    "collapsed": true
   },
   "outputs": [],
   "source": [
    "for d in data:\n",
    "    if 'id' in d.keys():\n",
    "        print 'yes'"
   ]
  },
  {
   "cell_type": "code",
   "execution_count": null,
   "metadata": {},
   "outputs": [],
   "source": [
    "data[0]"
   ]
  },
  {
   "cell_type": "code",
   "execution_count": null,
   "metadata": {},
   "outputs": [],
   "source": [
    "print type(data[0])"
   ]
  },
  {
   "cell_type": "code",
   "execution_count": 10,
   "metadata": {},
   "outputs": [
    {
     "data": {
      "text/plain": [
       "-100"
      ]
     },
     "execution_count": 10,
     "metadata": {},
     "output_type": "execute_result"
    }
   ],
   "source": [
    "data[0]['water_filteration']"
   ]
  },
  {
   "cell_type": "code",
   "execution_count": null,
   "metadata": {},
   "outputs": [],
   "source": []
  },
  {
   "cell_type": "code",
   "execution_count": null,
   "metadata": {
    "collapsed": true
   },
   "outputs": [],
   "source": []
  }
 ],
 "metadata": {
  "kernelspec": {
   "display_name": "Python 2",
   "language": "python",
   "name": "python2"
  },
  "language_info": {
   "codemirror_mode": {
    "name": "ipython",
    "version": 2
   },
   "file_extension": ".py",
   "mimetype": "text/x-python",
   "name": "python",
   "nbconvert_exporter": "python",
   "pygments_lexer": "ipython2",
   "version": "2.7.13"
  }
 },
 "nbformat": 4,
 "nbformat_minor": 2
}
