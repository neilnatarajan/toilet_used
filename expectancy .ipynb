{
 "cells": [
  {
   "cell_type": "code",
   "execution_count": 10,
   "metadata": {
    "collapsed": true
   },
   "outputs": [],
   "source": [
    "import csv \n",
    "import gzip \n",
    "from sklearn.model_selection import cross_val_score\n",
    "from sklearn import linear_model\n",
    "\n",
    "\n",
    "# reading in the data to get Field Names\n",
    "data = []\n",
    "with open('Mortality_05_UT.csv', 'rb') as csvfile:\n",
    "    spamreader = csv.reader(csvfile, delimiter=',', quotechar='|')\n",
    "    fieldNames = []\n",
    "    for row in spamreader:\n",
    "        fieldNames.append(row)\n",
    "        break"
   ]
  },
  {
   "cell_type": "code",
   "execution_count": 11,
   "metadata": {
    "collapsed": true
   },
   "outputs": [],
   "source": [
    "fieldNames = fieldNames[0]"
   ]
  },
  {
   "cell_type": "code",
   "execution_count": 12,
   "metadata": {
    "collapsed": true
   },
   "outputs": [],
   "source": [
    "# create List of dictionaries for each record in the dataset\n",
    "with open('Mortality_05_UT.csv') as csvfile:\n",
    "    data = []\n",
    "    reader = csv.DictReader(csvfile,fieldnames=fieldNames)\n",
    "    count = 0 \n",
    "    for row in reader:\n",
    "        if count != 0:\n",
    "            data.append(row)\n",
    "        count +=1\n",
    "        "
   ]
  },
  {
   "cell_type": "code",
   "execution_count": null,
   "metadata": {
    "collapsed": true
   },
   "outputs": [],
   "source": []
  },
  {
   "cell_type": "code",
   "execution_count": 13,
   "metadata": {
    "collapsed": true
   },
   "outputs": [],
   "source": [
    "# remove records that have an empty age field \n",
    "cleanData = []\n",
    "for datum in data:\n",
    "    toAppend = True\n",
    "    if datum['age'] is '':\n",
    "        toAppend = False\n",
    "    if datum['iscoveredbyhealthscheme'] is '3':\n",
    "        \n",
    "    for k in datum.keys():\n",
    "        if datum[k] is '':\n",
    "            datum[k] = -100\n",
    "    if toAppend:\n",
    "        cleanData.append(datum)"
   ]
  },
  {
   "cell_type": "code",
   "execution_count": null,
   "metadata": {},
   "outputs": [],
   "source": []
  },
  {
   "cell_type": "code",
   "execution_count": 14,
   "metadata": {},
   "outputs": [],
   "source": [
    "useless = ['m_id','client_m_id','hl_id','house_no','PSU_ID','m_serial_no','date_of_death','month_of_death','year_of_death','is_death_reg','place_of_death','is_death_certificate_received','serial_num_of_infant_mother','death_period','months_of_pregnancy']"
   ]
  },
  {
   "cell_type": "code",
   "execution_count": 15,
   "metadata": {
    "collapsed": true
   },
   "outputs": [],
   "source": [
    "useful_stuff = ['id','state','house_hold_no','district','rural','stratum_code',\\\n",
    "               'deceased_sex','treatment_source','order_of_birth','sex','age',\\\n",
    "               'religion','marital_status','currently_attending_school', \\\n",
    "               'reason_for_not_attending_school','highest_qualification','occupation_status'\\\n",
    "              'disability_status','regular_treatment','regular_treatment_source','chew','smoke'\\\n",
    "              'injury_treatment_type','alcohol','house_status','owner_status','drinking_water_source'\\\n",
    "              'is_water_filter','water_filteration','toilet_used','is_toilet_shared','household_have_electricity'\\\n",
    "              'lighting_source','cooking_fuel','no_of_dwelling_rooms','kitchen_availability','is_radio',\\\n",
    "              'is_televison','is_computer','is_telephone', 'is_washing_machine', 'is_refrigerator', \\\n",
    "              'is_sewing_machine', 'is_bicycle', 'is_scooter', 'is_car', 'is_tractor', 'is_water_pump', \\\n",
    "              'cart', 'land_possessed', 'iscoveredbyhealthscheme', 'injury_treatment_type'\\\n",
    "              'house_structure']"
   ]
  },
  {
   "cell_type": "code",
   "execution_count": 40,
   "metadata": {},
   "outputs": [],
   "source": [
    "columns = ['id','state','house_hold_no','district','rural','stratum_code',\\\n",
    "'private_parts','order_of_birth','age','religion','marital_status'\\\n",
    ",'currently_attending_school', 'reason_for_not_attending_school','regular_treatment','regular_treatment_source','chew','smoke'\\\n",
    ",'injury_treatment_type','alcohol','house_status','owner_status','drinking_water_source'\\\n",
    ",'water_filteration','toilet_used','is_toilet_shared','household_have_electricity'\\\n",
    ",'lighting_source','cooking_fuel','no_of_dwelling_rooms','kitchen_availability','is_radio',\\\n",
    "'is_television','is_computer','is_telephone', 'is_washing_machine', 'is_refrigerator','is_sewing_machine', 'is_bicycle', 'is_scooter', 'is_car', 'is_tractor', 'is_water_pump', \\\n",
    "'is_cart','land_possessed','iscoveredbyhealthscheme'\\\n",
    ",'house_structure']\n",
    "\n",
    "# if order of birth empty --> use mean value \n",
    "toBeUsed = ['house_hold_no','isRural','isUrban','stratum_code','isMale','isFemale','order_of_birth'\\\n",
    ",'isHindu','isMuslim','isChristian','isSikh','isBuddhist','isJain','isOtherReligion'\\\n",
    ",'isMarried','isNeverMarried','isRemarried','isWidow','isDivorced','isSeparated'\\\n",
    ",'isAttendingSchool','isAttendedSchool','isNeverAttended'\\\n",
    "]\n",
    "\n",
    "Neil = ['id','state','house_hold_no','district','rural','stratum_code',\\\n",
    "'private_parts','order_of_birth','age','religion','marital_status'\\\n",
    ",'currently_attending_school', 'reason_for_not_attending_school','regular_treatment','regular_treatment_source','chew','smoke']\n",
    "David = ['injury_treatment_type','alcohol','house_status','owner_status','drinking_water_source'\\\n",
    ",'water_filteration','toilet_used','is_toilet_shared','household_have_electricity'\\\n",
    ",'lighting_source','cooking_fuel','no_of_dwelling_rooms','kitchen_availability','is_radio']\n",
    "Gates = ['is_television','is_computer','is_telephone', 'is_washing_machine', 'is_refrigerator','is_sewing_machine', 'is_bicycle', 'is_scooter', 'is_car', 'is_tractor', 'is_water_pump', \\\n",
    "'is_cart','land_possessed','iscoveredbyhealthscheme'\\\n",
    ",'house_structure']\n",
    "\n",
    "\n",
    "    \n",
    "\n",
    "\n",
    "\n"
   ]
  },
  {
   "cell_type": "code",
   "execution_count": null,
   "metadata": {
    "collapsed": true
   },
   "outputs": [],
   "source": [
    "# Neil's functions \n",
    "def checkRural(datum):\n",
    "    if datum['rural'] == 1: \n",
    "        return [1,0]\n",
    "    elif datum['rural'] ==2:\n",
    "        return [0,1]\n",
    "    else:\n",
    "        return [0,0]"
   ]
  },
  {
   "cell_type": "code",
   "execution_count": null,
   "metadata": {
    "collapsed": true
   },
   "outputs": [],
   "source": [
    "# David's functions "
   ]
  },
  {
   "cell_type": "code",
   "execution_count": null,
   "metadata": {
    "collapsed": true
   },
   "outputs": [],
   "source": [
    "#Gates' functions "
   ]
  },
  {
   "cell_type": "code",
   "execution_count": 17,
   "metadata": {},
   "outputs": [
    {
     "name": "stdout",
     "output_type": "stream",
     "text": [
      "53076\n"
     ]
    }
   ],
   "source": [
    "from collections import defaultdict\n",
    "consolidated_data = []\n",
    "count = 0 \n",
    "for d in cleanData:\n",
    "#     print count\n",
    "    tempDict = defaultdict(int)\n",
    "    sex = None \n",
    "\n",
    "    \n",
    "    for c in columns:\n",
    "        if c is 'private_parts':\n",
    "            if d['sex'] != -100:\n",
    "                sex = int(d['sex'])\n",
    "            elif d['deceased_sex'] != -100:\n",
    "                sex = int(d['deceased_sex'])\n",
    "            tempDict['private_parts'] = sex \n",
    "        elif c is 'is_cart':\n",
    "            if d['cart'] == '4':\n",
    "                tempDict[c] = 0\n",
    "            else:\n",
    "                tempDict[c] = 1\n",
    "        elif c is 'land_possessed':\n",
    "            if d['land_possessed'] == '6':\n",
    "                tempDict[c] = 0\n",
    "            else:\n",
    "                tempDict[c] = int(d[c])\n",
    "        else:\n",
    "#             print c,d[c]\n",
    "            tempDict[c] = int(d[c])\n",
    "    consolidated_data.append(tempDict)\n",
    "    count +=1\n",
    "print count\n",
    "        \n",
    "            "
   ]
  },
  {
   "cell_type": "code",
   "execution_count": 18,
   "metadata": {
    "collapsed": true
   },
   "outputs": [],
   "source": [
    "# for datum in cleanData, datum is a dictionary\n",
    "def feature(datum):\n",
    "    feat = []\n",
    "    #household no \n",
    "    feat.append(datum['house_hold_no'])\n",
    "    #isRural \n",
    "    feat += checkRural(datum)\n",
    "    return feat\n"
   ]
  },
  {
   "cell_type": "code",
   "execution_count": 19,
   "metadata": {},
   "outputs": [
    {
     "name": "stdout",
     "output_type": "stream",
     "text": [
      "428\n"
     ]
    },
    {
     "data": {
      "text/plain": [
       "53504"
      ]
     },
     "execution_count": 19,
     "metadata": {},
     "output_type": "execute_result"
    }
   ],
   "source": [
    "sex_count = 0 \n",
    "sex = 0 \n",
    "for d in data:\n",
    "    if d['sex'] is not '':\n",
    "        sex = d['sex']\n",
    "    elif d['deceased_sex'] is not '':\n",
    "        sex = d['deceased_sex']\n",
    "    if sex == -100:\n",
    "        sex_count +=1 \n",
    "        \n",
    "print sex_count\n",
    "len(data)\n"
   ]
  },
  {
   "cell_type": "code",
   "execution_count": null,
   "metadata": {
    "collapsed": true
   },
   "outputs": [],
   "source": [
    "type(data[200]['deceased_sex'])"
   ]
  },
  {
   "cell_type": "code",
   "execution_count": null,
   "metadata": {
    "collapsed": true
   },
   "outputs": [],
   "source": [
    "columns.index('private_parts')"
   ]
  },
  {
   "cell_type": "code",
   "execution_count": 29,
   "metadata": {},
   "outputs": [
    {
     "data": {
      "text/plain": [
       "0"
      ]
     },
     "execution_count": 29,
     "metadata": {},
     "output_type": "execute_result"
    }
   ],
   "source": [
    "len([d for d in cleanData if d['age']==-100])"
   ]
  },
  {
   "cell_type": "code",
   "execution_count": null,
   "metadata": {
    "collapsed": true
   },
   "outputs": [],
   "source": [
    "\n",
    "for d in cleanData:\n",
    "    if 'id' in d:\n",
    "        print 'yes'"
   ]
  },
  {
   "cell_type": "code",
   "execution_count": null,
   "metadata": {
    "collapsed": true
   },
   "outputs": [],
   "source": [
    "for d in data:\n",
    "    if 'id' in d.keys():\n",
    "        print 'yes'"
   ]
  },
  {
   "cell_type": "code",
   "execution_count": null,
   "metadata": {
    "collapsed": true
   },
   "outputs": [],
   "source": [
    "data[0]"
   ]
  },
  {
   "cell_type": "code",
   "execution_count": null,
   "metadata": {
    "collapsed": true
   },
   "outputs": [],
   "source": [
    "print type(data[0])"
   ]
  },
  {
   "cell_type": "code",
   "execution_count": 10,
   "metadata": {},
   "outputs": [
    {
     "data": {
      "text/plain": [
       "-100"
      ]
     },
     "execution_count": 10,
     "metadata": {},
     "output_type": "execute_result"
    }
   ],
   "source": [
    "data[0]['water_filteration']"
   ]
  },
  {
   "cell_type": "code",
   "execution_count": 33,
   "metadata": {},
   "outputs": [
    {
     "data": {
      "text/plain": [
       "dict"
      ]
     },
     "execution_count": 33,
     "metadata": {},
     "output_type": "execute_result"
    }
   ],
   "source": [
    "type(cleanData[0])"
   ]
  },
  {
   "cell_type": "code",
   "execution_count": 34,
   "metadata": {},
   "outputs": [
    {
     "ename": "TypeError",
     "evalue": "append() takes exactly one argument (2 given)",
     "output_type": "error",
     "traceback": [
      "\u001b[0;31m---------------------------------------------------------------------------\u001b[0m",
      "\u001b[0;31mTypeError\u001b[0m                                 Traceback (most recent call last)",
      "\u001b[0;32m<ipython-input-34-3f859afb18f1>\u001b[0m in \u001b[0;36m<module>\u001b[0;34m()\u001b[0m\n\u001b[1;32m      1\u001b[0m \u001b[0mtmp\u001b[0m  \u001b[0;34m=\u001b[0m \u001b[0;34m[\u001b[0m\u001b[0;34m]\u001b[0m\u001b[0;34m\u001b[0m\u001b[0m\n\u001b[0;32m----> 2\u001b[0;31m \u001b[0mtmp\u001b[0m\u001b[0;34m.\u001b[0m\u001b[0mappend\u001b[0m\u001b[0;34m(\u001b[0m\u001b[0;36m0\u001b[0m\u001b[0;34m,\u001b[0m\u001b[0;36m1\u001b[0m\u001b[0;34m)\u001b[0m\u001b[0;34m\u001b[0m\u001b[0m\n\u001b[0m",
      "\u001b[0;31mTypeError\u001b[0m: append() takes exactly one argument (2 given)"
     ]
    }
   ],
   "source": []
  },
  {
   "cell_type": "code",
   "execution_count": 39,
   "metadata": {},
   "outputs": [
    {
     "name": "stdout",
     "output_type": "stream",
     "text": [
      "[1, 2, 3, 4, 5, 6]\n"
     ]
    }
   ],
   "source": [
    "x=[1,2,3] \n",
    "x+=[4,5,6]\n",
    "print x"
   ]
  },
  {
   "cell_type": "code",
   "execution_count": null,
   "metadata": {
    "collapsed": true
   },
   "outputs": [],
   "source": []
  }
 ],
 "metadata": {
  "kernelspec": {
   "display_name": "Python 2",
   "language": "python",
   "name": "python2"
  },
  "language_info": {
   "codemirror_mode": {
    "name": "ipython",
    "version": 2
   },
   "file_extension": ".py",
   "mimetype": "text/x-python",
   "name": "python",
   "nbconvert_exporter": "python",
   "pygments_lexer": "ipython2",
   "version": "2.7.13"
  }
 },
 "nbformat": 4,
 "nbformat_minor": 2
}
